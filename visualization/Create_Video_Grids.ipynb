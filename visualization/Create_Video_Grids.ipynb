{
 "cells": [
  {
   "cell_type": "code",
   "metadata": {
    "ExecuteTime": {
     "end_time": "2024-12-02T00:27:57.364348Z",
     "start_time": "2024-12-02T00:27:57.359666Z"
    }
   },
   "source": [
    "import matplotlib.pyplot as plt\n",
    "import numpy as np\n",
    "import mediapy as media\n",
    "from pathlib import Path\n",
    "from tqdm import tqdm\n",
    "from einops import rearrange, reduce"
   ],
   "outputs": [],
   "execution_count": 34
  },
  {
   "cell_type": "code",
   "metadata": {
    "ExecuteTime": {
     "end_time": "2024-12-02T00:27:57.391317Z",
     "start_time": "2024-12-02T00:27:57.387320Z"
    }
   },
   "source": [],
   "outputs": [],
   "execution_count": null
  },
  {
   "cell_type": "code",
   "metadata": {
    "ExecuteTime": {
     "end_time": "2024-12-02T00:27:57.548684Z",
     "start_time": "2024-12-02T00:27:57.404303Z"
    }
   },
   "source": [
    "!ls baselines"
   ],
   "outputs": [
    {
     "name": "stderr",
     "output_type": "stream",
     "text": [
      "'ls' is not recognized as an internal or external command,\n",
      "operable program or batch file.\n"
     ]
    }
   ],
   "execution_count": 35
  },
  {
   "cell_type": "code",
   "metadata": {
    "ExecuteTime": {
     "end_time": "2024-12-02T00:27:57.563556Z",
     "start_time": "2024-12-02T00:27:57.559560Z"
    }
   },
   "source": "runs_dir = Path('/baselines/session_0ccadddd/rollouts')",
   "outputs": [],
   "execution_count": 36
  },
  {
   "cell_type": "code",
   "metadata": {
    "ExecuteTime": {
     "end_time": "2024-12-02T00:27:57.646020Z",
     "start_time": "2024-12-02T00:27:57.636497Z"
    }
   },
   "source": [
    "vid_sections = []\n",
    "def parse_reward(p):\n",
    "    return float(p.name.split('_')[2])\n",
    "for r in tqdm(sorted(list(runs_dir.glob('*full.mp4')), key=parse_reward)):\n",
    "    #print(r)\n",
    "    vid_sections.append(media.read_video(r))"
   ],
   "outputs": [
    {
     "name": "stderr",
     "output_type": "stream",
     "text": [
      "0it [00:00, ?it/s]\n"
     ]
    }
   ],
   "execution_count": 37
  },
  {
   "cell_type": "code",
   "metadata": {
    "ExecuteTime": {
     "end_time": "2024-12-02T00:30:24.182560Z",
     "start_time": "2024-12-02T00:30:24.174568Z"
    }
   },
   "source": [
    "vid_sections = np.array(vid_sections)"
   ],
   "outputs": [],
   "execution_count": 41
  },
  {
   "cell_type": "code",
   "metadata": {
    "ExecuteTime": {
     "end_time": "2024-12-02T00:30:25.193526Z",
     "start_time": "2024-12-02T00:30:25.186533Z"
    }
   },
   "source": [
    "pixels = vid_sections\n",
    "pixels.shape"
   ],
   "outputs": [
    {
     "data": {
      "text/plain": [
       "(0,)"
      ]
     },
     "execution_count": 42,
     "metadata": {},
     "output_type": "execute_result"
    }
   ],
   "execution_count": 42
  },
  {
   "cell_type": "code",
   "metadata": {
    "ExecuteTime": {
     "end_time": "2024-12-02T00:30:29.202608Z",
     "start_time": "2024-12-02T00:30:29.177078Z"
    }
   },
   "source": [
    "plt.imshow(pixels[0][0])"
   ],
   "outputs": [
    {
     "ename": "IndexError",
     "evalue": "index 0 is out of bounds for axis 0 with size 0",
     "output_type": "error",
     "traceback": [
      "\u001B[1;31m---------------------------------------------------------------------------\u001B[0m",
      "\u001B[1;31mIndexError\u001B[0m                                Traceback (most recent call last)",
      "Cell \u001B[1;32mIn[43], line 1\u001B[0m\n\u001B[1;32m----> 1\u001B[0m plt\u001B[38;5;241m.\u001B[39mimshow(\u001B[43mpixels\u001B[49m\u001B[43m[\u001B[49m\u001B[38;5;241;43m0\u001B[39;49m\u001B[43m]\u001B[49m[\u001B[38;5;241m0\u001B[39m])\n",
      "\u001B[1;31mIndexError\u001B[0m: index 0 is out of bounds for axis 0 with size 0"
     ]
    }
   ],
   "execution_count": 43
  },
  {
   "cell_type": "code",
   "metadata": {
    "ExecuteTime": {
     "end_time": "2024-12-02T00:27:57.829816600Z",
     "start_time": "2024-11-27T04:39:44.623904Z"
    }
   },
   "source": [
    "#pixels = pixels[:64]\n",
    "#pixels.shape"
   ],
   "outputs": [],
   "execution_count": 13
  },
  {
   "cell_type": "code",
   "metadata": {
    "ExecuteTime": {
     "end_time": "2024-12-02T00:27:57.832813300Z",
     "start_time": "2024-11-27T04:39:53.132283Z"
    }
   },
   "source": [
    "grid = rearrange(pixels[:, :4, :, :, :], '(x y) f h w c -> f (y h) (x w) c', x=12)\n",
    "print(grid.shape)\n",
    "plt.imshow(grid[0])"
   ],
   "outputs": [
    {
     "ename": "IndexError",
     "evalue": "too many indices for array: array is 1-dimensional, but 5 were indexed",
     "output_type": "error",
     "traceback": [
      "\u001B[1;31m---------------------------------------------------------------------------\u001B[0m",
      "\u001B[1;31mIndexError\u001B[0m                                Traceback (most recent call last)",
      "Cell \u001B[1;32mIn[15], line 1\u001B[0m\n\u001B[1;32m----> 1\u001B[0m grid \u001B[38;5;241m=\u001B[39m rearrange(\u001B[43mpixels\u001B[49m\u001B[43m[\u001B[49m\u001B[43m:\u001B[49m\u001B[43m,\u001B[49m\u001B[43m \u001B[49m\u001B[43m:\u001B[49m\u001B[38;5;241;43m4\u001B[39;49m\u001B[43m,\u001B[49m\u001B[43m \u001B[49m\u001B[43m:\u001B[49m\u001B[43m,\u001B[49m\u001B[43m \u001B[49m\u001B[43m:\u001B[49m\u001B[43m,\u001B[49m\u001B[43m \u001B[49m\u001B[43m:\u001B[49m\u001B[43m]\u001B[49m, \u001B[38;5;124m'\u001B[39m\u001B[38;5;124m(x y) f h w c -> f (y h) (x w) c\u001B[39m\u001B[38;5;124m'\u001B[39m, x\u001B[38;5;241m=\u001B[39m\u001B[38;5;241m12\u001B[39m)\n\u001B[0;32m      2\u001B[0m \u001B[38;5;28mprint\u001B[39m(grid\u001B[38;5;241m.\u001B[39mshape)\n\u001B[0;32m      3\u001B[0m plt\u001B[38;5;241m.\u001B[39mimshow(grid[\u001B[38;5;241m0\u001B[39m])\n",
      "\u001B[1;31mIndexError\u001B[0m: too many indices for array: array is 1-dimensional, but 5 were indexed"
     ]
    }
   ],
   "execution_count": 15
  },
  {
   "cell_type": "code",
   "metadata": {
    "ExecuteTime": {
     "end_time": "2024-12-02T00:27:57.833811900Z",
     "start_time": "2024-11-27T04:40:01.753088Z"
    }
   },
   "source": [
    "media.write_video('grid_test.mp4', rearrange(pixels[:, ::4, :, :, :], '(x y) f h w c -> f (y h) (x w) c', x=12))"
   ],
   "outputs": [
    {
     "ename": "IndexError",
     "evalue": "too many indices for array: array is 1-dimensional, but 5 were indexed",
     "output_type": "error",
     "traceback": [
      "\u001B[1;31m---------------------------------------------------------------------------\u001B[0m",
      "\u001B[1;31mIndexError\u001B[0m                                Traceback (most recent call last)",
      "Cell \u001B[1;32mIn[16], line 1\u001B[0m\n\u001B[1;32m----> 1\u001B[0m media\u001B[38;5;241m.\u001B[39mwrite_video(\u001B[38;5;124m'\u001B[39m\u001B[38;5;124mgrid_test.mp4\u001B[39m\u001B[38;5;124m'\u001B[39m, rearrange(\u001B[43mpixels\u001B[49m\u001B[43m[\u001B[49m\u001B[43m:\u001B[49m\u001B[43m,\u001B[49m\u001B[43m \u001B[49m\u001B[43m:\u001B[49m\u001B[43m:\u001B[49m\u001B[38;5;241;43m4\u001B[39;49m\u001B[43m,\u001B[49m\u001B[43m \u001B[49m\u001B[43m:\u001B[49m\u001B[43m,\u001B[49m\u001B[43m \u001B[49m\u001B[43m:\u001B[49m\u001B[43m,\u001B[49m\u001B[43m \u001B[49m\u001B[43m:\u001B[49m\u001B[43m]\u001B[49m, \u001B[38;5;124m'\u001B[39m\u001B[38;5;124m(x y) f h w c -> f (y h) (x w) c\u001B[39m\u001B[38;5;124m'\u001B[39m, x\u001B[38;5;241m=\u001B[39m\u001B[38;5;241m12\u001B[39m))\n",
      "\u001B[1;31mIndexError\u001B[0m: too many indices for array: array is 1-dimensional, but 5 were indexed"
     ]
    }
   ],
   "execution_count": 16
  },
  {
   "cell_type": "code",
   "metadata": {
    "ExecuteTime": {
     "end_time": "2024-12-02T00:27:57.833811900Z",
     "start_time": "2024-11-27T04:40:03.267247Z"
    }
   },
   "source": [
    "red = reduce(pixels[:, :4, :, :, :].astype(np.float32), 'v f h w c -> f h w c', 'mean').astype(np.uint8)\n",
    "print(red.shape)\n",
    "plt.imshow(red[0])"
   ],
   "outputs": [
    {
     "ename": "IndexError",
     "evalue": "too many indices for array: array is 1-dimensional, but 5 were indexed",
     "output_type": "error",
     "traceback": [
      "\u001B[1;31m---------------------------------------------------------------------------\u001B[0m",
      "\u001B[1;31mIndexError\u001B[0m                                Traceback (most recent call last)",
      "Cell \u001B[1;32mIn[17], line 1\u001B[0m\n\u001B[1;32m----> 1\u001B[0m red \u001B[38;5;241m=\u001B[39m reduce(\u001B[43mpixels\u001B[49m\u001B[43m[\u001B[49m\u001B[43m:\u001B[49m\u001B[43m,\u001B[49m\u001B[43m \u001B[49m\u001B[43m:\u001B[49m\u001B[38;5;241;43m4\u001B[39;49m\u001B[43m,\u001B[49m\u001B[43m \u001B[49m\u001B[43m:\u001B[49m\u001B[43m,\u001B[49m\u001B[43m \u001B[49m\u001B[43m:\u001B[49m\u001B[43m,\u001B[49m\u001B[43m \u001B[49m\u001B[43m:\u001B[49m\u001B[43m]\u001B[49m\u001B[38;5;241m.\u001B[39mastype(np\u001B[38;5;241m.\u001B[39mfloat32), \u001B[38;5;124m'\u001B[39m\u001B[38;5;124mv f h w c -> f h w c\u001B[39m\u001B[38;5;124m'\u001B[39m, \u001B[38;5;124m'\u001B[39m\u001B[38;5;124mmean\u001B[39m\u001B[38;5;124m'\u001B[39m)\u001B[38;5;241m.\u001B[39mastype(np\u001B[38;5;241m.\u001B[39muint8)\n\u001B[0;32m      2\u001B[0m \u001B[38;5;28mprint\u001B[39m(red\u001B[38;5;241m.\u001B[39mshape)\n\u001B[0;32m      3\u001B[0m plt\u001B[38;5;241m.\u001B[39mimshow(red[\u001B[38;5;241m0\u001B[39m])\n",
      "\u001B[1;31mIndexError\u001B[0m: too many indices for array: array is 1-dimensional, but 5 were indexed"
     ]
    }
   ],
   "execution_count": 17
  },
  {
   "cell_type": "code",
   "execution_count": 62,
   "metadata": {},
   "outputs": [],
   "source": [
    "media.write_video('grid_reduce_test.mp4', reduce(pixels[:, ::2, :, :, :].astype(np.float32), 'v f h w c -> f h w c', 'mean').astype(np.uint8))\n",
    "\n"
   ]
  },
  {
   "cell_type": "code",
   "execution_count": null,
   "metadata": {},
   "outputs": [],
   "source": []
  },
  {
   "cell_type": "code",
   "execution_count": null,
   "metadata": {},
   "outputs": [],
   "source": []
  }
 ],
 "metadata": {
  "kernelspec": {
   "display_name": "Python 3",
   "language": "python",
   "name": "python3"
  },
  "language_info": {
   "codemirror_mode": {
    "name": "ipython",
    "version": 3
   },
   "file_extension": ".py",
   "mimetype": "text/x-python",
   "name": "python",
   "nbconvert_exporter": "python",
   "pygments_lexer": "ipython3",
   "version": "3.9.0"
  }
 },
 "nbformat": 4,
 "nbformat_minor": 4
}
