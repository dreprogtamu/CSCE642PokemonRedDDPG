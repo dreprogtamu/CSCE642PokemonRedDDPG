{
 "cells": [
  {
   "cell_type": "markdown",
   "metadata": {},
   "source": [
    "## Random Agent Reward Distribution"
   ]
  },
  {
   "cell_type": "code",
   "metadata": {
    "ExecuteTime": {
     "end_time": "2024-12-02T01:24:05.746428Z",
     "start_time": "2024-12-02T01:24:05.741831Z"
    }
   },
   "source": [
    "import json\n",
    "import numpy as np\n",
    "import matplotlib.pyplot as plt\n",
    "from pathlib import Path"
   ],
   "outputs": [],
   "execution_count": 41
  },
  {
   "cell_type": "code",
   "metadata": {
    "ExecuteTime": {
     "end_time": "2024-12-02T01:24:05.770483Z",
     "start_time": "2024-12-02T01:24:05.765357Z"
    }
   },
   "source": "data_path = '../baselines/session_0ccadddd/'",
   "outputs": [],
   "execution_count": 42
  },
  {
   "cell_type": "code",
   "metadata": {
    "ExecuteTime": {
     "end_time": "2024-12-02T01:52:49.247526Z",
     "start_time": "2024-12-02T01:52:49.234548Z"
    }
   },
   "source": [
    "all_rollouts = []\n",
    "for json_path in Path(data_path).glob(\"*.json\"):\n",
    "    with open(json_path, 'r') as f:\n",
    "        data = json.load(f)\n",
    "        data = data[0]\n",
    "        data['id'] = json_path.name\n",
    "        #print(data)\n",
    "        all_rollouts.append(data)\n",
    "print(all_rollouts)"
   ],
   "outputs": [
    {
     "name": "stdout",
     "output_type": "stream",
     "text": [
      "[{'event': 0, 'level': 0, 'heal': 0, 'op_lvl': 0.0, 'dead': -0.0, 'badge': 0, 'explore': 85.2, 'id': 'all_runs_338b6c5d.json'}, {'event': 0, 'level': 16, 'heal': 0.4084084084084072, 'op_lvl': 0.0, 'dead': -0.0, 'badge': 0, 'explore': 71.39999999999999, 'id': 'all_runs_601f6152.json'}, {'event': 0, 'level': 0, 'heal': 0, 'op_lvl': 0.0, 'dead': -0.0, 'badge': 0, 'explore': 38.699999999999996, 'id': 'all_runs_69069463.json'}, {'event': 0, 'level': 0, 'heal': 0, 'op_lvl': 0.0, 'dead': -0.0, 'badge': 0, 'explore': 99.0, 'id': 'all_runs_75713793.json'}, {'event': 0, 'level': 0, 'heal': 0, 'op_lvl': 0.0, 'dead': -0.0, 'badge': 0, 'explore': 84.66, 'id': 'all_runs_79e12599.json'}, {'event': 0, 'level': 0, 'heal': 0, 'op_lvl': 0.0, 'dead': -0.0, 'badge': 0, 'explore': 72.17999999999999, 'id': 'all_runs_7b5516a0.json'}, {'event': 0, 'level': 0, 'heal': 0, 'op_lvl': 0.0, 'dead': -0.0, 'badge': 0, 'explore': 86.88, 'id': 'all_runs_8e52fcb6.json'}, {'event': 4, 'level': 0, 'heal': 0, 'op_lvl': 0.0, 'dead': -0.0, 'badge': 0, 'explore': 88.32, 'id': 'all_runs_c3b4f4b5.json'}, {'event': 0, 'level': 0, 'heal': 0, 'op_lvl': 0.0, 'dead': -0.0, 'badge': 0, 'explore': 100.14, 'id': 'all_runs_c46f79c6.json'}, {'event': 0, 'level': 0, 'heal': 0, 'op_lvl': 0.0, 'dead': -0.0, 'badge': 0, 'explore': 57.12, 'id': 'all_runs_da95c098.json'}, {'event': 0, 'level': 0, 'heal': 0, 'op_lvl': 0.0, 'dead': -0.0, 'badge': 0, 'explore': 69.06, 'id': 'all_runs_dd8d9d80.json'}, {'event': 0, 'level': 4, 'heal': 0, 'op_lvl': 0.0, 'dead': -0.0, 'badge': 0, 'explore': 111.0, 'id': 'all_runs_e8693794.json'}, {'event': 0, 'level': 0, 'heal': 0, 'op_lvl': 0.0, 'dead': -0.0, 'badge': 0, 'explore': 81.66, 'id': 'all_runs_ec41c871.json'}, {'event': 0, 'level': 4, 'heal': 3.538083538083538, 'op_lvl': 0.0, 'dead': -0.4, 'badge': 0, 'explore': 143.76, 'id': 'all_runs_f7da9b4b.json'}, {'event': 0, 'level': 0, 'heal': 0, 'op_lvl': 0.0, 'dead': -0.0, 'badge': 0, 'explore': 44.58, 'id': 'all_runs_fc9b24b9.json'}, {'event': 0, 'level': 0, 'heal': 0, 'op_lvl': 0.0, 'dead': -0.0, 'badge': 0, 'explore': 87.78, 'id': 'all_runs_fdfb69e1.json'}]\n"
     ]
    }
   ],
   "execution_count": 59
  },
  {
   "cell_type": "code",
   "metadata": {
    "ExecuteTime": {
     "end_time": "2024-12-02T01:58:12.189247Z",
     "start_time": "2024-12-02T01:58:12.148318Z"
    }
   },
   "source": "rewards = [roll['rewards'][-1] for roll in all_rollouts]",
   "outputs": [
    {
     "ename": "KeyError",
     "evalue": "'rewards'",
     "output_type": "error",
     "traceback": [
      "\u001B[1;31m---------------------------------------------------------------------------\u001B[0m",
      "\u001B[1;31mKeyError\u001B[0m                                  Traceback (most recent call last)",
      "Cell \u001B[1;32mIn[62], line 1\u001B[0m\n\u001B[1;32m----> 1\u001B[0m rewards \u001B[38;5;241m=\u001B[39m \u001B[43m[\u001B[49m\u001B[43mroll\u001B[49m\u001B[43m[\u001B[49m\u001B[38;5;124;43m'\u001B[39;49m\u001B[38;5;124;43mrewards\u001B[39;49m\u001B[38;5;124;43m'\u001B[39;49m\u001B[43m]\u001B[49m\u001B[43m \u001B[49m\u001B[38;5;28;43;01mfor\u001B[39;49;00m\u001B[43m \u001B[49m\u001B[43mroll\u001B[49m\u001B[43m \u001B[49m\u001B[38;5;129;43;01min\u001B[39;49;00m\u001B[43m \u001B[49m\u001B[43mall_rollouts\u001B[49m\u001B[43m]\u001B[49m\n",
      "Cell \u001B[1;32mIn[62], line 1\u001B[0m, in \u001B[0;36m<listcomp>\u001B[1;34m(.0)\u001B[0m\n\u001B[1;32m----> 1\u001B[0m rewards \u001B[38;5;241m=\u001B[39m [\u001B[43mroll\u001B[49m\u001B[43m[\u001B[49m\u001B[38;5;124;43m'\u001B[39;49m\u001B[38;5;124;43mrewards\u001B[39;49m\u001B[38;5;124;43m'\u001B[39;49m\u001B[43m]\u001B[49m \u001B[38;5;28;01mfor\u001B[39;00m roll \u001B[38;5;129;01min\u001B[39;00m all_rollouts]\n",
      "\u001B[1;31mKeyError\u001B[0m: 'rewards'"
     ]
    }
   ],
   "execution_count": 62
  },
  {
   "cell_type": "code",
   "metadata": {
    "ExecuteTime": {
     "end_time": "2024-12-02T01:53:43.911131Z",
     "start_time": "2024-12-02T01:53:43.885287Z"
    }
   },
   "source": [
    "all_rollouts[rewards.index(max(rewards))]['id']"
   ],
   "outputs": [
    {
     "ename": "ValueError",
     "evalue": "max() arg is an empty sequence",
     "output_type": "error",
     "traceback": [
      "\u001B[1;31m---------------------------------------------------------------------------\u001B[0m",
      "\u001B[1;31mValueError\u001B[0m                                Traceback (most recent call last)",
      "Cell \u001B[1;32mIn[61], line 1\u001B[0m\n\u001B[1;32m----> 1\u001B[0m all_rollouts[rewards\u001B[38;5;241m.\u001B[39mindex(\u001B[38;5;28;43mmax\u001B[39;49m\u001B[43m(\u001B[49m\u001B[43mrewards\u001B[49m\u001B[43m)\u001B[49m)][\u001B[38;5;124m'\u001B[39m\u001B[38;5;124mid\u001B[39m\u001B[38;5;124m'\u001B[39m]\n",
      "\u001B[1;31mValueError\u001B[0m: max() arg is an empty sequence"
     ]
    }
   ],
   "execution_count": 61
  },
  {
   "cell_type": "code",
   "metadata": {
    "ExecuteTime": {
     "end_time": "2024-12-02T01:25:08.750289Z",
     "start_time": "2024-12-02T01:25:08.026739Z"
    }
   },
   "source": [
    "plt.hist(rewards, bins=30, color=(0.7,0.2,0.2))\n",
    "plt.title(f'Random Agent Reward distribution ({data_path})')\n",
    "plt.xlabel('Reward')\n",
    "plt.ylabel('Frequency')"
   ],
   "outputs": [
    {
     "data": {
      "text/plain": [
       "Text(0, 0.5, 'Frequency')"
      ]
     },
     "execution_count": 47,
     "metadata": {},
     "output_type": "execute_result"
    },
    {
     "data": {
      "text/plain": [
       "<Figure size 640x480 with 1 Axes>"
      ],
      "image/png": "[encoded data removed]"
     },
     "metadata": {},
     "output_type": "display_data"
    }
   ],
   "execution_count": 47
  },
  {
   "cell_type": "markdown",
   "metadata": {},
   "source": [
    "## Random Agent Attempted Movements"
   ]
  },
  {
   "cell_type": "code",
   "metadata": {
    "ExecuteTime": {
     "end_time": "2024-12-02T01:25:14.307289Z",
     "start_time": "2024-12-02T01:25:13.633817Z"
    }
   },
   "source": [
    "from pyboy import WindowEvent\n",
    "from notebook_video_writer import VideoWriter"
   ],
   "outputs": [
    {
     "name": "stderr",
     "output_type": "stream",
     "text": [
      "UserWarning: Using SDL2 binaries from pysdl2-dll 2.30.2\n"
     ]
    },
    {
     "ename": "ImportError",
     "evalue": "cannot import name 'WindowEvent' from 'pyboy' (C:\\Users\\dolson\\Documents\\GitHub\\CSCE642PokemonRedDDPG\\.venv\\Lib\\site-packages\\pyboy\\__init__.cp311-win_amd64.pyd)",
     "output_type": "error",
     "traceback": [
      "\u001B[1;31m---------------------------------------------------------------------------\u001B[0m",
      "\u001B[1;31mImportError\u001B[0m                               Traceback (most recent call last)",
      "Cell \u001B[1;32mIn[48], line 1\u001B[0m\n\u001B[1;32m----> 1\u001B[0m \u001B[38;5;28;01mfrom\u001B[39;00m \u001B[38;5;21;01mpyboy\u001B[39;00m \u001B[38;5;28;01mimport\u001B[39;00m WindowEvent\n\u001B[0;32m      2\u001B[0m \u001B[38;5;28;01mfrom\u001B[39;00m \u001B[38;5;21;01mnotebook_video_writer\u001B[39;00m \u001B[38;5;28;01mimport\u001B[39;00m VideoWriter\n",
      "\u001B[1;31mImportError\u001B[0m: cannot import name 'WindowEvent' from 'pyboy' (C:\\Users\\dolson\\Documents\\GitHub\\CSCE642PokemonRedDDPG\\.venv\\Lib\\site-packages\\pyboy\\__init__.cp311-win_amd64.pyd)"
     ]
    }
   ],
   "execution_count": 48
  },
  {
   "cell_type": "code",
   "execution_count": 61,
   "metadata": {},
   "outputs": [],
   "source": [
    "button_to_dir = {\n",
    "    WindowEvent.PRESS_ARROW_LEFT: np.array([-1,0]),\n",
    "    WindowEvent.PRESS_ARROW_RIGHT: np.array([1,0]),\n",
    "    WindowEvent.PRESS_ARROW_UP: np.array([0,1]),\n",
    "    WindowEvent.PRESS_ARROW_DOWN: np.array([0,-1])\n",
    "}"
   ]
  },
  {
   "cell_type": "code",
   "metadata": {
    "ExecuteTime": {
     "end_time": "2024-12-02T01:25:20.032373Z",
     "start_time": "2024-12-02T01:25:19.781687Z"
    }
   },
   "source": [
    "map_size = 92\n",
    "center = map_size//2\n",
    "scale = 4\n",
    "sample_size = 6\n",
    "game_state = np.zeros((scale*map_size, scale*map_size, 3))\n",
    "for roll in all_rollouts[:sample_size]:\n",
    "    pos = np.array([scale*center, scale*center])\n",
    "    tot_reward = roll['rewards'][-1]\n",
    "    good = tot_reward/200\n",
    "    bad = 1 - good\n",
    "    col = np.array([bad, good, 0])/sample_size\n",
    "    for act in roll['actions']:\n",
    "        game_state[pos[0]:pos[0]+scale, pos[1]:pos[1]+scale] += col\n",
    "        if act in button_to_dir.keys():\n",
    "            pos += scale*button_to_dir[act]\n",
    "#game_state = 2/(1 + np.exp(-game_state))-1\n",
    "#game_state = np.sqrt(game_state)\n",
    "game_state = np.clip(game_state, 0, 1)\n",
    "plt.imshow(game_state)"
   ],
   "outputs": [
    {
     "data": {
      "text/plain": [
       "<matplotlib.image.AxesImage at 0x16dc3efa890>"
      ]
     },
     "execution_count": 49,
     "metadata": {},
     "output_type": "execute_result"
    },
    {
     "data": {
      "text/plain": [
       "<Figure size 640x480 with 1 Axes>"
      ],
      "image/png": "[encoded data removed]"
     },
     "metadata": {},
     "output_type": "display_data"
    }
   ],
   "execution_count": 49
  },
  {
   "cell_type": "code",
   "execution_count": 226,
   "metadata": {},
   "outputs": [],
   "source": [
    "render_videos = False"
   ]
  },
  {
   "cell_type": "code",
   "execution_count": 227,
   "metadata": {},
   "outputs": [],
   "source": [
    "if render_videos:\n",
    "    with VideoWriter(fps=60) as v:\n",
    "        map_size = 128\n",
    "        center = map_size//2\n",
    "        scale = 4\n",
    "        sample_size = 220\n",
    "        game_state = np.zeros((scale*map_size, scale*map_size, 3))\n",
    "        for roll in all_rollouts[:sample_size]:\n",
    "            pos = np.array([scale*center, scale*center])\n",
    "            tot_reward = roll['rewards'][-1]\n",
    "            good = tot_reward/200\n",
    "            bad = 1 - good\n",
    "            col = np.array([bad, good, 0])\n",
    "            for idx, act in enumerate(roll['actions']):\n",
    "                game_state[pos[0]:pos[0]+scale, pos[1]:pos[1]+scale] = 2*col\n",
    "                if act in button_to_dir.keys():\n",
    "                    pos += scale*button_to_dir[act]\n",
    "                if (idx % 256 == 0):\n",
    "                    v.add(game_state)\n",
    "                    game_state *= 0.996\n",
    "        #game_state = 2/(1 + np.exp(-game_state))-1\n",
    "        #game_state = np.sqrt(game_state)\n",
    "        #game_state = np.clip(game_state, 0, 1)\n",
    "        #plt.imshow(game_state)"
   ]
  },
  {
   "cell_type": "code",
   "execution_count": 228,
   "metadata": {},
   "outputs": [],
   "source": [
    "import mediapy as media"
   ]
  },
  {
   "cell_type": "code",
   "execution_count": 229,
   "metadata": {},
   "outputs": [
    {
     "data": {
      "text/plain": [
       "<matplotlib.image.AxesImage at 0x7fda4855dfa0>"
      ]
     },
     "execution_count": 229,
     "metadata": {},
     "output_type": "execute_result"
    },
    {
     "data": {
      "image/png": "[encoded data removed]",
      "text/plain": [
       "<Figure size 432x288 with 1 Axes>"
      ]
     },
     "metadata": {
      "needs_background": "light"
     },
     "output_type": "display_data"
    }
   ],
   "source": [
    "sz = 16\n",
    "first_frame = media.read_video(next(Path(data_path).glob(\"*.mp4\")))[0]\n",
    "plt.imshow(first_frame[60:60+sz, 64:64+sz, :])"
   ]
  },
  {
   "cell_type": "code",
   "execution_count": 231,
   "metadata": {},
   "outputs": [],
   "source": [
    "if render_videos:\n",
    "    with VideoWriter(fps=60) as v:\n",
    "        map_size = 64\n",
    "        center = map_size//2\n",
    "        scale = 16\n",
    "        sample_size = 20\n",
    "        game_state = np.zeros((scale*map_size, scale*map_size, 3))\n",
    "        fshape = first_frame.shape\n",
    "        center_s = center*scale\n",
    "        game_state[center_s:center_s+fshape[0], center_s:center_s+fshape[1]] = first_frame/255\n",
    "        for roll in all_rollouts[:sample_size]:\n",
    "            pos = np.array([center_s, center_s])\n",
    "            tot_reward = roll['rewards'][-1]\n",
    "            good = tot_reward/200\n",
    "            bad = 1 - good\n",
    "            col = np.array([bad, good, 0])\n",
    "            for idx, act in enumerate(roll['actions']):\n",
    "                game_state[pos[0]:pos[0]+scale, pos[1]:pos[1]+scale] = 2*col\n",
    "                if act in button_to_dir.keys():\n",
    "                    pos += scale*button_to_dir[act]\n",
    "                if (idx % 256 == 0):\n",
    "                    v.add(game_state)\n",
    "                    game_state *= 0.996\n",
    "        #game_state = 2/(1 + np.exp(-game_state))-1\n",
    "        #game_state = np.sqrt(game_state)\n",
    "        #game_state = np.clip(game_state, 0, 1)\n",
    "        #plt.imshow(game_state)"
   ]
  },
  {
   "cell_type": "code",
   "execution_count": null,
   "metadata": {},
   "outputs": [],
   "source": []
  }
 ],
 "metadata": {
  "kernelspec": {
   "display_name": "Python 3",
   "language": "python",
   "name": "python3"
  },
  "language_info": {
   "codemirror_mode": {
    "name": "ipython",
    "version": 3
   },
   "file_extension": ".py",
   "mimetype": "text/x-python",
   "name": "python",
   "nbconvert_exporter": "python",
   "pygments_lexer": "ipython3",
   "version": "3.9.0"
  }
 },
 "nbformat": 4,
 "nbformat_minor": 4
}
